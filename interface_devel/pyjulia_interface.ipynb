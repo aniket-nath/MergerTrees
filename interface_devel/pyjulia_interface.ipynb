{
 "cells": [
  {
   "cell_type": "code",
   "execution_count": 5,
   "metadata": {},
   "outputs": [],
   "source": [
    "import numpy as np\n",
    "import scipy as sp\n",
    "import matplotlib.pyplot as plt\n",
    "import os"
   ]
  },
  {
   "cell_type": "code",
   "execution_count": 6,
   "metadata": {},
   "outputs": [
    {
     "ename": "NameError",
     "evalue": "name 'julia' is not defined",
     "output_type": "error",
     "traceback": [
      "\u001b[0;31m---------------------------------------------------------------------------\u001b[0m",
      "\u001b[0;31mNameError\u001b[0m                                 Traceback (most recent call last)",
      "Cell \u001b[0;32mIn[6], line 1\u001b[0m\n\u001b[0;32m----> 1\u001b[0m \u001b[43mjulia\u001b[49m\u001b[38;5;241m.\u001b[39minstall()\n",
      "\u001b[0;31mNameError\u001b[0m: name 'julia' is not defined"
     ]
    }
   ],
   "source": [
    "julia.install()"
   ]
  },
  {
   "cell_type": "code",
   "execution_count": 7,
   "metadata": {},
   "outputs": [],
   "source": [
    "from julia.api import Julia\n",
    "#jl = Julia(compiled_modules=False)"
   ]
  },
  {
   "cell_type": "code",
   "execution_count": 8,
   "metadata": {},
   "outputs": [],
   "source": [
    "import subprocess"
   ]
  },
  {
   "cell_type": "code",
   "execution_count": 9,
   "metadata": {},
   "outputs": [
    {
     "ename": "UnsupportedPythonError",
     "evalue": "It seems your Julia and PyJulia setup are not supported.\n\nJulia executable:\n    julia\nPython interpreter and libpython used by PyCall.jl:\n    /home/aniket/Documents/GitHub/HaloMergerCode/.venv/bin/python\n    /usr/lib/x86_64-linux-gnu/libpython3.10.so.1.0\nPython interpreter used to import PyJulia and its libpython.\n    /home/aniket/Documents/GitHub/MergerTrees/halo/bin/python\n    /usr/lib/x86_64-linux-gnu/libpython3.10.so.1.0\n\nYour Python interpreter \"/home/aniket/Documents/GitHub/MergerTrees/halo/bin/python\"\nis statically linked to libpython.  Currently, PyJulia does not fully\nsupport such Python interpreter.\n\nThe easiest workaround is to pass `compiled_modules=False` to `Julia`\nconstructor.  To do so, first *reboot* your Python REPL (if this happened\ninside an interactive session) and then evaluate:\n\n    >>> from julia.api import Julia\n    >>> jl = Julia(compiled_modules=False)\n\nAnother workaround is to run your Python script with `python-jl`\ncommand bundled in PyJulia.  You can simply do:\n\n    $ python-jl PATH/TO/YOUR/SCRIPT.py\n\nSee `python-jl --help` for more information.\n\nFor more information, see:\n\n    https://pyjulia.readthedocs.io/en/latest/troubleshooting.html\n",
     "output_type": "error",
     "traceback": [
      "\u001b[0;31m---------------------------------------------------------------------------\u001b[0m",
      "\u001b[0;31mUnsupportedPythonError\u001b[0m                    Traceback (most recent call last)",
      "Cell \u001b[0;32mIn[9], line 1\u001b[0m\n\u001b[0;32m----> 1\u001b[0m \u001b[38;5;28;01mfrom\u001b[39;00m \u001b[38;5;21;01mjulia\u001b[39;00m \u001b[38;5;28;01mimport\u001b[39;00m Main\n\u001b[1;32m      2\u001b[0m Main\u001b[38;5;241m.\u001b[39minclude(\u001b[38;5;124m\"\u001b[39m\u001b[38;5;124mMergerTreeCosmo.jl\u001b[39m\u001b[38;5;124m\"\u001b[39m)\n\u001b[1;32m      4\u001b[0m \u001b[38;5;66;03m#add_num = Main.MergerTreeCosmo.addition(3,4)\u001b[39;00m\n\u001b[1;32m      5\u001b[0m \u001b[38;5;66;03m#print(add_num)\u001b[39;00m\n",
      "File \u001b[0;32m<frozen importlib._bootstrap>:1027\u001b[0m, in \u001b[0;36m_find_and_load\u001b[0;34m(name, import_)\u001b[0m\n",
      "File \u001b[0;32m<frozen importlib._bootstrap>:1006\u001b[0m, in \u001b[0;36m_find_and_load_unlocked\u001b[0;34m(name, import_)\u001b[0m\n",
      "File \u001b[0;32m<frozen importlib._bootstrap>:674\u001b[0m, in \u001b[0;36m_load_unlocked\u001b[0;34m(spec)\u001b[0m\n",
      "File \u001b[0;32m<frozen importlib._bootstrap>:571\u001b[0m, in \u001b[0;36mmodule_from_spec\u001b[0;34m(spec)\u001b[0m\n",
      "File \u001b[0;32m~/Documents/GitHub/MergerTrees/halo/lib/python3.10/site-packages/julia/core.py:253\u001b[0m, in \u001b[0;36mJuliaModuleLoader.create_module\u001b[0;34m(self, spec)\u001b[0m\n\u001b[1;32m    250\u001b[0m juliapath \u001b[38;5;241m=\u001b[39m remove_prefix(fullname, \u001b[38;5;124m\"\u001b[39m\u001b[38;5;124mjulia.\u001b[39m\u001b[38;5;124m\"\u001b[39m)\n\u001b[1;32m    251\u001b[0m \u001b[38;5;28;01mif\u001b[39;00m juliapath \u001b[38;5;241m==\u001b[39m \u001b[38;5;124m'\u001b[39m\u001b[38;5;124mMain\u001b[39m\u001b[38;5;124m'\u001b[39m:\n\u001b[1;32m    252\u001b[0m     \u001b[38;5;28;01mreturn\u001b[39;00m sys\u001b[38;5;241m.\u001b[39mmodules\u001b[38;5;241m.\u001b[39msetdefault(fullname,\n\u001b[0;32m--> 253\u001b[0m                                   \u001b[43mJuliaMainModule\u001b[49m\u001b[43m(\u001b[49m\u001b[38;5;28;43mself\u001b[39;49m\u001b[43m,\u001b[49m\u001b[43m \u001b[49m\u001b[43mfullname\u001b[49m\u001b[43m)\u001b[49m)\n\u001b[1;32m    254\u001b[0m \u001b[38;5;28;01melif\u001b[39;00m \u001b[38;5;28mself\u001b[39m\u001b[38;5;241m.\u001b[39mjulia\u001b[38;5;241m.\u001b[39misafunction(juliapath):\n\u001b[1;32m    255\u001b[0m     \u001b[38;5;28;01mreturn\u001b[39;00m \u001b[38;5;28mself\u001b[39m\u001b[38;5;241m.\u001b[39mjulia\u001b[38;5;241m.\u001b[39meval(juliapath)\n",
      "File \u001b[0;32m~/Documents/GitHub/MergerTrees/halo/lib/python3.10/site-packages/julia/core.py:151\u001b[0m, in \u001b[0;36mJuliaModule.__init__\u001b[0;34m(self, loader, *args, **kwargs)\u001b[0m\n\u001b[1;32m    149\u001b[0m \u001b[38;5;28;01mdef\u001b[39;00m \u001b[38;5;21m__init__\u001b[39m(\u001b[38;5;28mself\u001b[39m, loader, \u001b[38;5;241m*\u001b[39margs, \u001b[38;5;241m*\u001b[39m\u001b[38;5;241m*\u001b[39mkwargs):\n\u001b[1;32m    150\u001b[0m     \u001b[38;5;28msuper\u001b[39m(JuliaModule, \u001b[38;5;28mself\u001b[39m)\u001b[38;5;241m.\u001b[39m\u001b[38;5;21m__init__\u001b[39m(\u001b[38;5;241m*\u001b[39margs, \u001b[38;5;241m*\u001b[39m\u001b[38;5;241m*\u001b[39mkwargs)\n\u001b[0;32m--> 151\u001b[0m     \u001b[38;5;28mself\u001b[39m\u001b[38;5;241m.\u001b[39m_julia \u001b[38;5;241m=\u001b[39m \u001b[43mloader\u001b[49m\u001b[38;5;241;43m.\u001b[39;49m\u001b[43mjulia\u001b[49m\n\u001b[1;32m    152\u001b[0m     \u001b[38;5;28mself\u001b[39m\u001b[38;5;241m.\u001b[39m__loader__ \u001b[38;5;241m=\u001b[39m loader\n",
      "File \u001b[0;32m~/Documents/GitHub/MergerTrees/halo/lib/python3.10/site-packages/julia/core.py:242\u001b[0m, in \u001b[0;36mJuliaModuleLoader.julia\u001b[0;34m(self)\u001b[0m\n\u001b[1;32m    240\u001b[0m \u001b[38;5;129m@property\u001b[39m\n\u001b[1;32m    241\u001b[0m \u001b[38;5;28;01mdef\u001b[39;00m \u001b[38;5;21mjulia\u001b[39m(\u001b[38;5;28mself\u001b[39m):\n\u001b[0;32m--> 242\u001b[0m     \u001b[38;5;28mself\u001b[39m\u001b[38;5;241m.\u001b[39m\u001b[38;5;18m__class__\u001b[39m\u001b[38;5;241m.\u001b[39mjulia \u001b[38;5;241m=\u001b[39m julia \u001b[38;5;241m=\u001b[39m \u001b[43mJulia\u001b[49m\u001b[43m(\u001b[49m\u001b[43m)\u001b[49m\n\u001b[1;32m    243\u001b[0m     \u001b[38;5;28;01mreturn\u001b[39;00m julia\n",
      "File \u001b[0;32m~/Documents/GitHub/MergerTrees/halo/lib/python3.10/site-packages/julia/core.py:495\u001b[0m, in \u001b[0;36mJulia.__init__\u001b[0;34m(self, init_julia, jl_init_path, runtime, jl_runtime_path, debug, **julia_options)\u001b[0m\n\u001b[1;32m    489\u001b[0m logger\u001b[38;5;241m.\u001b[39mdebug(\u001b[38;5;124m\"\u001b[39m\u001b[38;5;124mcompiled_modules = \u001b[39m\u001b[38;5;132;01m%r\u001b[39;00m\u001b[38;5;124m\"\u001b[39m, options\u001b[38;5;241m.\u001b[39mcompiled_modules)\n\u001b[1;32m    490\u001b[0m \u001b[38;5;28;01mif\u001b[39;00m \u001b[38;5;129;01mnot\u001b[39;00m (\n\u001b[1;32m    491\u001b[0m     options\u001b[38;5;241m.\u001b[39mcompiled_modules \u001b[38;5;241m==\u001b[39m \u001b[38;5;124m\"\u001b[39m\u001b[38;5;124mno\u001b[39m\u001b[38;5;124m\"\u001b[39m\n\u001b[1;32m    492\u001b[0m     \u001b[38;5;129;01mor\u001b[39;00m is_compatible_python\n\u001b[1;32m    493\u001b[0m     \u001b[38;5;129;01mor\u001b[39;00m use_custom_sysimage\n\u001b[1;32m    494\u001b[0m ):\n\u001b[0;32m--> 495\u001b[0m     \u001b[38;5;28;01mraise\u001b[39;00m UnsupportedPythonError(jlinfo)\n\u001b[1;32m    497\u001b[0m \u001b[38;5;28mself\u001b[39m\u001b[38;5;241m.\u001b[39mapi\u001b[38;5;241m.\u001b[39minit_julia(options)\n\u001b[1;32m    499\u001b[0m \u001b[38;5;66;03m# We are assuming that `jl_is_initialized()` was true only\u001b[39;00m\n\u001b[1;32m    500\u001b[0m \u001b[38;5;66;03m# if this process was a Julia process (hence PyCall had\u001b[39;00m\n\u001b[1;32m    501\u001b[0m \u001b[38;5;66;03m# already called `atexit(Py_Finalize)`).  This is not true\u001b[39;00m\n\u001b[0;32m   (...)\u001b[0m\n\u001b[1;32m    506\u001b[0m \u001b[38;5;66;03m# not register the atexit hook), let's play on the safer\u001b[39;00m\n\u001b[1;32m    507\u001b[0m \u001b[38;5;66;03m# side for now.\u001b[39;00m\n",
      "\u001b[0;31mUnsupportedPythonError\u001b[0m: It seems your Julia and PyJulia setup are not supported.\n\nJulia executable:\n    julia\nPython interpreter and libpython used by PyCall.jl:\n    /home/aniket/Documents/GitHub/HaloMergerCode/.venv/bin/python\n    /usr/lib/x86_64-linux-gnu/libpython3.10.so.1.0\nPython interpreter used to import PyJulia and its libpython.\n    /home/aniket/Documents/GitHub/MergerTrees/halo/bin/python\n    /usr/lib/x86_64-linux-gnu/libpython3.10.so.1.0\n\nYour Python interpreter \"/home/aniket/Documents/GitHub/MergerTrees/halo/bin/python\"\nis statically linked to libpython.  Currently, PyJulia does not fully\nsupport such Python interpreter.\n\nThe easiest workaround is to pass `compiled_modules=False` to `Julia`\nconstructor.  To do so, first *reboot* your Python REPL (if this happened\ninside an interactive session) and then evaluate:\n\n    >>> from julia.api import Julia\n    >>> jl = Julia(compiled_modules=False)\n\nAnother workaround is to run your Python script with `python-jl`\ncommand bundled in PyJulia.  You can simply do:\n\n    $ python-jl PATH/TO/YOUR/SCRIPT.py\n\nSee `python-jl --help` for more information.\n\nFor more information, see:\n\n    https://pyjulia.readthedocs.io/en/latest/troubleshooting.html\n"
     ]
    }
   ],
   "source": [
    "from julia import Main\n",
    "Main.include(\"MergerTreeCosmo.jl\")\n",
    "\n",
    "#add_num = Main.MergerTreeCosmo.addition(3,4)\n",
    "#print(add_num)"
   ]
  },
  {
   "cell_type": "code",
   "execution_count": 10,
   "metadata": {},
   "outputs": [
    {
     "ename": "NameError",
     "evalue": "name 'Main' is not defined",
     "output_type": "error",
     "traceback": [
      "\u001b[0;31m---------------------------------------------------------------------------\u001b[0m",
      "\u001b[0;31mNameError\u001b[0m                                 Traceback (most recent call last)",
      "Cell \u001b[0;32mIn[10], line 10\u001b[0m\n\u001b[1;32m      6\u001b[0m HostMassRedshiftVvir   \u001b[38;5;241m=\u001b[39m \u001b[38;5;124m\"\u001b[39m\u001b[38;5;124mHostMassRedshiftVvir_13.txt\u001b[39m\u001b[38;5;124m\"\u001b[39m\n\u001b[1;32m      7\u001b[0m SubMassSubRedshift     \u001b[38;5;241m=\u001b[39m \u001b[38;5;124m\"\u001b[39m\u001b[38;5;124mSubMassSubRedshift_M013.txt\u001b[39m\u001b[38;5;124m\"\u001b[39m\n\u001b[0;32m---> 10\u001b[0m M_main, z_main, V_vir, M_sub, z_sub \u001b[38;5;241m=\u001b[39m \u001b[43mMain\u001b[49m\u001b[38;5;241m.\u001b[39mMergerTreeCosmo\u001b[38;5;241m.\u001b[39mM_main(M0, z0, z_max, M_res, HostMassRedshiftVvir, SubMassSubRedshift)\n",
      "\u001b[0;31mNameError\u001b[0m: name 'Main' is not defined"
     ]
    }
   ],
   "source": [
    "z0         = 0.0\n",
    "M0         = 1e13\n",
    "z_max      = 30.0\n",
    "M_res      = 1e9\n",
    "\n",
    "HostMassRedshiftVvir   = \"HostMassRedshiftVvir_13.txt\"\n",
    "SubMassSubRedshift     = \"SubMassSubRedshift_M013.txt\"\n",
    "\n",
    "\n",
    "M_main, z_main, V_vir, M_sub, z_sub = Main.MergerTreeCosmo.M_main(M0, z0, z_max, M_res, HostMassRedshiftVvir, SubMassSubRedshift)"
   ]
  },
  {
   "cell_type": "code",
   "execution_count": null,
   "metadata": {},
   "outputs": [],
   "source": [
    "plt.plot(z_main, M_main, 'x-', label='M = 1e13')\n",
    "plt.yscale('log')\n",
    "\n",
    "plt.xlabel('Redshift')\n",
    "plt.ylabel('Mass')\n",
    "plt.legend()\n",
    "plt.xlim(-1, 15)\n",
    "\n",
    "plt.legend()\n"
   ]
  }
 ],
 "metadata": {
  "kernelspec": {
   "display_name": "Python 3",
   "language": "python",
   "name": "python3"
  },
  "language_info": {
   "codemirror_mode": {
    "name": "ipython",
    "version": 3
   },
   "file_extension": ".py",
   "mimetype": "text/x-python",
   "name": "python",
   "nbconvert_exporter": "python",
   "pygments_lexer": "ipython3",
   "version": "3.10.12"
  }
 },
 "nbformat": 4,
 "nbformat_minor": 2
}
